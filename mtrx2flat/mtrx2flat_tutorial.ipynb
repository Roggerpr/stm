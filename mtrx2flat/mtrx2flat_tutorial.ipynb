{
 "cells": [
  {
   "cell_type": "markdown",
   "metadata": {},
   "source": [
    "***\n",
    "# mtrx2flat Tutorial\n",
    "***"
   ]
  },
  {
   "cell_type": "markdown",
   "metadata": {},
   "source": [
    "## Contents\n",
    "\n",
    "1. [Introduction](#introduction)\n",
    "1. [Standard Module Imports](#standard_modules)\n",
    "1. [Third Party Module Imports](#thirdparty)\n",
    "1. [mtrx2flat Parameters](#mtrx2flat_params)\n",
    "1. [mtrx2flat Conversion](#conversion)"
   ]
  },
  {
   "cell_type": "markdown",
   "metadata": {},
   "source": [
    "<a id='introduction'></a>\n",
    "## Introduction\n",
    "\n",
    "In this notebook we will look at how to use the mtrx2flat sciprt that helps to automate the conversion of STM data from the proprietry .MATRIX format to the more useable .FLAT format."
   ]
  },
  {
   "cell_type": "markdown",
   "metadata": {},
   "source": [
    "<a id='standard_modules'></a>\n",
    "## Standard Module Imports"
   ]
  },
  {
   "cell_type": "code",
   "execution_count": 1,
   "metadata": {
    "collapsed": false
   },
   "outputs": [],
   "source": [
    "import os\n",
    "import argparse\n",
    "import re"
   ]
  },
  {
   "cell_type": "markdown",
   "metadata": {},
   "source": [
    "<a id='thirdparty'></a>\n",
    "## Third Party Module Imports"
   ]
  },
  {
   "cell_type": "code",
   "execution_count": 2,
   "metadata": {
    "collapsed": false
   },
   "outputs": [],
   "source": [
    "mtrx2flat_dir = 'C:/Users/tgill/Documents/STM_database/mtrx2flat'\n",
    "os.chdir(mtrx2flat_dir)\n",
    "import mtrx2flat"
   ]
  },
  {
   "cell_type": "markdown",
   "metadata": {},
   "source": [
    "<a id='mtrx2flat_params'></a>\n",
    "## Parameters\n",
    "First check that the current path definition for the VernissageCmd.exe is correct."
   ]
  },
  {
   "cell_type": "code",
   "execution_count": 4,
   "metadata": {
    "collapsed": false
   },
   "outputs": [
    {
     "data": {
      "text/plain": [
       "'C:\\\\Program Files (x86)\\\\Omicron NanoTechnology\\\\Vernissage\\\\V2.1\\\\Bin\\\\VernissageCmd.exe'"
      ]
     },
     "execution_count": 4,
     "metadata": {},
     "output_type": "execute_result"
    }
   ],
   "source": [
    "mtrx2flat.get_vernissagecmd_path()"
   ]
  },
  {
   "cell_type": "markdown",
   "metadata": {},
   "source": [
    "Next check to see if the exporter is correct."
   ]
  },
  {
   "cell_type": "code",
   "execution_count": 5,
   "metadata": {
    "collapsed": false
   },
   "outputs": [
    {
     "data": {
      "text/plain": [
       "'Flattener'"
      ]
     },
     "execution_count": 5,
     "metadata": {},
     "output_type": "execute_result"
    }
   ],
   "source": [
    "mtrx2flat.get_vernissage_exporter()"
   ]
  },
  {
   "cell_type": "markdown",
   "metadata": {},
   "source": [
    "Both of these can be changed by,"
   ]
  },
  {
   "cell_type": "code",
   "execution_count": 6,
   "metadata": {
    "collapsed": false
   },
   "outputs": [
    {
     "name": "stdout",
     "output_type": "stream",
     "text": [
      "VernissageCmd.exe. path changed to some\\other\\path\n",
      "Vernissage exporter changed to: PNG Exporter\n"
     ]
    }
   ],
   "source": [
    "mtrx2flat.set_vernissagecmd_path('some\\\\other\\\\path')\n",
    "mtrx2flat.set_vernissage_exporter('PNG Exporter')"
   ]
  },
  {
   "cell_type": "markdown",
   "metadata": {},
   "source": [
    "For now lets keep them as the default values."
   ]
  },
  {
   "cell_type": "code",
   "execution_count": 7,
   "metadata": {
    "collapsed": false
   },
   "outputs": [
    {
     "name": "stdout",
     "output_type": "stream",
     "text": [
      "VernissageCmd.exe. path changed to C:\\Program Files (x86)\\Omicron NanoTechnology\\Vernissage\\V2.1\\Bin\\VernissageCmd.exe\n",
      "Vernissage exporter changed to: Flattener\n"
     ]
    }
   ],
   "source": [
    "mtrx2flat.set_vernissagecmd_path('default')\n",
    "mtrx2flat.set_vernissage_exporter('default')"
   ]
  },
  {
   "cell_type": "markdown",
   "metadata": {},
   "source": [
    "<a id='conversion'></a>\n",
    "## Conversion"
   ]
  },
  {
   "cell_type": "code",
   "execution_count": 3,
   "metadata": {
    "collapsed": true
   },
   "outputs": [],
   "source": [
    "input_dir = 'C:/Users/tgill/Desktop/mtrx2flat_test/2014-06-02'\n",
    "output_dir = 'C:/Users/tgill/Desktop/mtrx2flat_test/2014-06-02_output'"
   ]
  },
  {
   "cell_type": "code",
   "execution_count": 8,
   "metadata": {
    "collapsed": false
   },
   "outputs": [
    {
     "name": "stdout",
     "output_type": "stream",
     "text": [
      "Creating C:\\Users\\tgill\\Desktop\\mtrx2flat_test\\2014-06-02_output\n",
      "C:\\Program Files (x86)\\Omicron NanoTechnology\\Vernissage\\V2.1\\Bin\\VernissageCmd.exe -path C:\\Users\\tgill\\Desktop\\mtrx2flat_test\\2014-06-02 -outdir C:\\Users\\tgill\\Desktop\\mtrx2flat_test\\2014-06-02_output -exporter Flattener\n"
     ]
    }
   ],
   "source": [
    "mtrx2flat.convert(input_dir, output_dir)"
   ]
  }
 ],
 "metadata": {
  "anaconda-cloud": {},
  "kernelspec": {
   "display_name": "Python [conda root]",
   "language": "python",
   "name": "conda-root-py"
  },
  "language_info": {
   "codemirror_mode": {
    "name": "ipython",
    "version": 3
   },
   "file_extension": ".py",
   "mimetype": "text/x-python",
   "name": "python",
   "nbconvert_exporter": "python",
   "pygments_lexer": "ipython3",
   "version": "3.5.2"
  }
 },
 "nbformat": 4,
 "nbformat_minor": 1
}
